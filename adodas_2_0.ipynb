{
  "nbformat": 4,
  "nbformat_minor": 0,
  "metadata": {
    "colab": {
      "name": "adodas_2.0.ipynb",
      "provenance": [],
      "collapsed_sections": [],
      "authorship_tag": "ABX9TyNDEPkfV1GfWfQat85ILHaP",
      "include_colab_link": true
    },
    "kernelspec": {
      "name": "python3",
      "display_name": "Python 3"
    },
    "language_info": {
      "name": "python"
    }
  },
  "cells": [
    {
      "cell_type": "markdown",
      "metadata": {
        "id": "view-in-github",
        "colab_type": "text"
      },
      "source": [
        "<a href=\"https://colab.research.google.com/github/liesemarques/hackathon-adodas/blob/main/adodas_2_0.ipynb\" target=\"_parent\"><img src=\"https://colab.research.google.com/assets/colab-badge.svg\" alt=\"Open In Colab\"/></a>"
      ]
    },
    {
      "cell_type": "code",
      "metadata": {
        "id": "CKP_spS0weJz",
        "colab": {
          "base_uri": "https://localhost:8080/"
        },
        "outputId": "ae182207-990d-4f37-ac5d-17a91829b15c"
      },
      "source": [
        "from google.colab import drive\n",
        "drive.mount('/content/l_drive')\n",
        "import json\n",
        "import pandas as pd\n",
        "from sklearn.preprocessing import LabelEncoder\n",
        "import matplotlib.pyplot as plt\n",
        "import numpy as np"
      ],
      "execution_count": null,
      "outputs": [
        {
          "output_type": "stream",
          "text": [
            "Mounted at /content/l_drive\n"
          ],
          "name": "stdout"
        }
      ]
    },
    {
      "cell_type": "code",
      "metadata": {
        "id": "DTswMxln285I"
      },
      "source": [
        "dados = '/content/l_drive/MyDrive/Ciência da Computação/hackton/dados.json'"
      ],
      "execution_count": null,
      "outputs": []
    },
    {
      "cell_type": "markdown",
      "metadata": {
        "id": "SOmSXereH1Sq"
      },
      "source": [
        "# Cadastro"
      ]
    },
    {
      "cell_type": "code",
      "metadata": {
        "id": "y1msKGbMIQv7"
      },
      "source": [
        "def cadastro():\n",
        "    try:\n",
        "        open('dados.json','r')\n",
        "    except FileNotFoundError:\n",
        "        print('Arquivo criado')\n",
        "        # cria o arquivo dados.json\n",
        "        etiqueta = {'maquina':[],'linha':[],'prioridade':[],'parada':[],'data':[], 'hora':[],\n",
        "                    'descricao':[],'operador': []}\n",
        "        with open('dados.json','w')as dados:\n",
        "            json.dump(etiqueta, dados)\n",
        "    # abre o arquivo\n",
        "    with open('dados.json','r')as dados:\n",
        "        etiqueta = json.load(dados)\n",
        "        \n",
        "        maquina = str(input(\"Digite o nome da maquina\\n\"))\n",
        "        etiqueta['maquina'].append(maquina)\n",
        "\n",
        "    while True:\n",
        "        linha = input(\"Digite qual Linha '1' '2' '3' '4' '5' '6'\\n\")\n",
        "        if linha in '123456':\n",
        "            break\n",
        "    etiqueta['linha'].append(linha)\n",
        "\n",
        "    while True:\n",
        "        prioridade = str(input(\"Qual a prioridade (B) Baixa (M) Media (A) Alta\\n\"))\n",
        "        if prioridade in 'BMAbma':\n",
        "            break\n",
        "    etiqueta['prioridade'].append(prioridade)\n",
        "\n",
        "    while True:    \n",
        "        parada = str(input(\"Houve parada (S) Sim (N) Nao\\n\")).title()\n",
        "        if parada in 'SsNn':\n",
        "         \n",
        "            break\n",
        "    etiqueta['parada'] = parada    \n",
        "        \n",
        "    data = str(input(\"Qual a data\\n\"))\n",
        "    etiqueta['data'] = data\n",
        "\n",
        "    hora = str(input(\"Qual a hora\\n\"))\n",
        "    etiqueta['hora'] = hora\n",
        "\n",
        "    descricao = str(input(\"Descricao\\n\"))\n",
        "    etiqueta['descricao'] = descricao\n",
        "\n",
        "    operador = str(input(\"Nome do operador\\n\"))\n",
        "    etiqueta['operador'] = operador\n",
        "        \n",
        "    # salva os dados no arquivo\n",
        "    with open('dados.json','w')as dados:\n",
        "        json.dump(etiqueta, dados)\n",
        "\n"
      ],
      "execution_count": null,
      "outputs": []
    },
    {
      "cell_type": "markdown",
      "metadata": {
        "id": "B7zERi-PsZCP"
      },
      "source": [
        "# Máquinas com maior número de problemas"
      ]
    },
    {
      "cell_type": "code",
      "metadata": {
        "id": "lfpfps2_m27K"
      },
      "source": [
        "def maq_problemas():\n",
        "   \n",
        "    dados_json = pd.read_json('dados.json')\n",
        "    df = pd.DataFrame.from_dict(dados_json)\n",
        "    # Máquinas com maior número de problemas\n",
        "    maq_problema = df[df['parada'] == 'S' ]\n",
        "    maq_problema['parada'] = 1\n",
        "    total = maq_problema.groupby(['maquina']).sum()['parada'].idxmax()\n",
        "    print(f'\\nMaquina com maior numero de problemas {total}\\n')"
      ],
      "execution_count": null,
      "outputs": []
    },
    {
      "cell_type": "code",
      "metadata": {
        "id": "P9g4R6M4s-3c"
      },
      "source": [
        "maq_problemas()"
      ],
      "execution_count": null,
      "outputs": []
    },
    {
      "cell_type": "code",
      "metadata": {
        "id": "eivgFc41tH_C"
      },
      "source": [
        "def grafico_defeito():\n",
        "    key_list = list(def_grafico.keys())\n",
        "    values_list = list(def_grafico.values)\n",
        "\n",
        "    labels = key_list\n",
        "    sizes = values_list\n",
        "    explode = (0, 0.1) \n",
        "\n",
        "    fig1, ax1 = plt.subplots()\n",
        "    ax1.pie(sizes, explode=explode, labels=labels, autopct='%1.1f%%',\n",
        "            shadow=True, startangle=90)\n",
        "    ax1.axis()  # Equal aspect ratio ensures that pie is drawn as a circle.\n",
        "\n",
        "    plt.show()"
      ],
      "execution_count": null,
      "outputs": []
    },
    {
      "cell_type": "markdown",
      "metadata": {
        "id": "7slqKGNQsi9l"
      },
      "source": [
        "# Distribuição de problemas pelas linhas (porcentagem)"
      ]
    },
    {
      "cell_type": "code",
      "metadata": {
        "id": "wD_Lao_Oq5V2"
      },
      "source": [
        "def problema_por_linhas():\n",
        "    dados_json = pd.read_json('dados.json')\n",
        "    df = pd.DataFrame.from_dict(dados_json)\n",
        "\n",
        "    le = LabelEncoder()\n",
        "    df['parada'] = le.fit_transform(df['parada'])\n",
        "    # Distribuição de problemas pelas linhas (porcentagem)\n",
        "    defeito_linha = df.groupby(['linha'],as_index=False).mean().round(2)\n",
        "    return print(f'\\nDefeitos por linhas {defeito_linha}\\n')"
      ],
      "execution_count": null,
      "outputs": []
    },
    {
      "cell_type": "code",
      "metadata": {
        "id": "5w-5aPop-DBf"
      },
      "source": [
        "# Grafico de distribuição de problemas pelas linhas (porcentagem)\n",
        "def parada_linha():\n",
        "    labels = defeito_linha['linha']\n",
        "    men_means = defeito_linha['parada']\n",
        "\n",
        "\n",
        "    x = np.arange(len(labels))  # the label locations\n",
        "    width = 0.35  # the width of the bars\n",
        "\n",
        "    fig, ax = plt.subplots()\n",
        "    rects1 = ax.bar(x - width/2, men_means, width, label='alinha')\n",
        "\n",
        "\n",
        "    ax.set_ylabel('Scores')\n",
        "    ax.set_title('Distribuição de problemas pelas linhas')\n",
        "    ax.set_xticks(x)\n",
        "    ax.set_xticklabels(labels)\n",
        "    ax.legend()\n",
        "\n",
        "\n",
        "    def autolabel(rects):\n",
        "        \"\"\"Attach a text label above each bar in *rects*, displaying its height.\"\"\"\n",
        "        for rect in rects:\n",
        "            height = rect.get_height()\n",
        "            ax.annotate('{}'.format(height),\n",
        "                        xy=(rect.get_x() + rect.get_width() / 2, height),\n",
        "                        xytext=(0, 3),  # 3 points vertical offset\n",
        "                        textcoords=\"offset points\",\n",
        "                        ha='center', va='bottom')\n",
        "\n",
        "\n",
        "    autolabel(rects1)\n",
        "\n",
        "\n",
        "    fig.tight_layout()\n",
        "\n",
        "    plt.show()"
      ],
      "execution_count": null,
      "outputs": []
    },
    {
      "cell_type": "code",
      "metadata": {
        "id": "8RtEa421QsjJ"
      },
      "source": [
        "parada_linha()"
      ],
      "execution_count": null,
      "outputs": []
    },
    {
      "cell_type": "markdown",
      "metadata": {
        "id": "PzMaNPbdAa8K"
      },
      "source": [
        "# Médias de problemas por dia"
      ]
    },
    {
      "cell_type": "code",
      "metadata": {
        "colab": {
          "base_uri": "https://localhost:8080/",
          "height": 80
        },
        "id": "aeaoTm8yTy22",
        "outputId": "1602fbeb-bf7f-48d2-ce01-950cb17e4170"
      },
      "source": [
        "dados_json = pd.read_json('dados.json')\n",
        "df = pd.DataFrame.from_dict(dados_json)\n",
        "\n",
        "maq_problema = df[df['parada'] == 'S' ]\n",
        "maq_problema['parada'] = 1\n",
        "\n",
        "md_dia = maq_problema.groupby(['data'],as_index=False).mean()\n",
        "md_dia "
      ],
      "execution_count": null,
      "outputs": [
        {
          "output_type": "execute_result",
          "data": {
            "text/html": [
              "<div>\n",
              "<style scoped>\n",
              "    .dataframe tbody tr th:only-of-type {\n",
              "        vertical-align: middle;\n",
              "    }\n",
              "\n",
              "    .dataframe tbody tr th {\n",
              "        vertical-align: top;\n",
              "    }\n",
              "\n",
              "    .dataframe thead th {\n",
              "        text-align: right;\n",
              "    }\n",
              "</style>\n",
              "<table border=\"1\" class=\"dataframe\">\n",
              "  <thead>\n",
              "    <tr style=\"text-align: right;\">\n",
              "      <th></th>\n",
              "      <th>data</th>\n",
              "      <th>linha</th>\n",
              "      <th>parada</th>\n",
              "      <th>hora</th>\n",
              "    </tr>\n",
              "  </thead>\n",
              "  <tbody>\n",
              "    <tr>\n",
              "      <th>0</th>\n",
              "      <td>44</td>\n",
              "      <td>2.666667</td>\n",
              "      <td>1.0</td>\n",
              "      <td>44.0</td>\n",
              "    </tr>\n",
              "  </tbody>\n",
              "</table>\n",
              "</div>"
            ],
            "text/plain": [
              "   data     linha  parada  hora\n",
              "0    44  2.666667     1.0  44.0"
            ]
          },
          "metadata": {
            "tags": []
          },
          "execution_count": 347
        }
      ]
    },
    {
      "cell_type": "code",
      "metadata": {
        "colab": {
          "base_uri": "https://localhost:8080/",
          "height": 142
        },
        "id": "pDjJ3AM-U2bw",
        "outputId": "364d6ea6-59db-4d41-97fa-1f4541f07c67"
      },
      "source": [
        "df\n"
      ],
      "execution_count": null,
      "outputs": [
        {
          "output_type": "execute_result",
          "data": {
            "text/html": [
              "<div>\n",
              "<style scoped>\n",
              "    .dataframe tbody tr th:only-of-type {\n",
              "        vertical-align: middle;\n",
              "    }\n",
              "\n",
              "    .dataframe tbody tr th {\n",
              "        vertical-align: top;\n",
              "    }\n",
              "\n",
              "    .dataframe thead th {\n",
              "        text-align: right;\n",
              "    }\n",
              "</style>\n",
              "<table border=\"1\" class=\"dataframe\">\n",
              "  <thead>\n",
              "    <tr style=\"text-align: right;\">\n",
              "      <th></th>\n",
              "      <th>maquina</th>\n",
              "      <th>linha</th>\n",
              "      <th>prioridade</th>\n",
              "      <th>parada</th>\n",
              "      <th>data</th>\n",
              "      <th>hora</th>\n",
              "      <th>descricao</th>\n",
              "      <th>operador</th>\n",
              "    </tr>\n",
              "  </thead>\n",
              "  <tbody>\n",
              "    <tr>\n",
              "      <th>0</th>\n",
              "      <td>maquina02</td>\n",
              "      <td>3</td>\n",
              "      <td>b</td>\n",
              "      <td>S</td>\n",
              "      <td>44</td>\n",
              "      <td>44</td>\n",
              "      <td>ff</td>\n",
              "      <td>hh</td>\n",
              "    </tr>\n",
              "    <tr>\n",
              "      <th>1</th>\n",
              "      <td>maquina02</td>\n",
              "      <td>3</td>\n",
              "      <td>m</td>\n",
              "      <td>S</td>\n",
              "      <td>44</td>\n",
              "      <td>44</td>\n",
              "      <td>ff</td>\n",
              "      <td>hh</td>\n",
              "    </tr>\n",
              "    <tr>\n",
              "      <th>2</th>\n",
              "      <td>maquina01</td>\n",
              "      <td>2</td>\n",
              "      <td>m</td>\n",
              "      <td>S</td>\n",
              "      <td>44</td>\n",
              "      <td>44</td>\n",
              "      <td>ff</td>\n",
              "      <td>hh</td>\n",
              "    </tr>\n",
              "  </tbody>\n",
              "</table>\n",
              "</div>"
            ],
            "text/plain": [
              "     maquina  linha prioridade parada  data  hora descricao operador\n",
              "0  maquina02      3          b      S    44    44        ff       hh\n",
              "1  maquina02      3          m      S    44    44        ff       hh\n",
              "2  maquina01      2          m      S    44    44        ff       hh"
            ]
          },
          "metadata": {
            "tags": []
          },
          "execution_count": 348
        }
      ]
    },
    {
      "cell_type": "markdown",
      "metadata": {
        "id": "w4Ycg6pOAlQp"
      },
      "source": [
        "# Menu"
      ]
    },
    {
      "cell_type": "code",
      "metadata": {
        "colab": {
          "base_uri": "https://localhost:8080/"
        },
        "id": "rB11dcxXMVN2",
        "outputId": "631c6218-7c22-449f-c755-1ec574fdcbdc"
      },
      "source": [
        "while True:\n",
        "    cargo = str(input(\"Digite seu cargo 'O - Operador','G - Gerente','D - Diretor', 'S - Sair\\n\"))\n",
        "    if cargo in 'Oo': # Operador\n",
        "        cadastro()\n",
        "        break\n",
        "    if cargo in 'Gg': # Gerente\n",
        "        maq_problemas()\n",
        "        problema_por_linhas()\n",
        "        \n",
        "        break\n",
        "    if cargo in 'Dd': # Diretoro\n",
        "        grafico_defeito() #. Maq com maior numero de problemas\n",
        "        parada_linha() #  Grafico c as paradas por linha\n",
        "        \n",
        "        break\n",
        "    if cargo in 'Ss':\n",
        "        print('Fim do programa')\n",
        "        break\n",
        "\n",
        "\n"
      ],
      "execution_count": null,
      "outputs": [
        {
          "output_type": "stream",
          "text": [
            "Digite seu cargo 'O - Operador','G - Gerente','D - Diretor', 'S - Sair\n",
            "o\n",
            "Digite o nome da maquina\n",
            "maquina01\n",
            "Digite qual Linha '1' '2' '3' '4' '5' '6'\n",
            "2\n",
            "Qual a prioridade (B) Baixa (M) Media (A) Alta\n",
            "m\n",
            "Houve parada (S) Sim (N) Nao\n",
            "s\n",
            "Qual a data\n",
            "44\n",
            "Qual a hora\n",
            "44\n",
            "Descricao\n",
            "ff\n",
            "Nome do operador\n",
            "hh\n"
          ],
          "name": "stdout"
        }
      ]
    },
    {
      "cell_type": "code",
      "metadata": {
        "id": "j4qxk0aAF7Ey"
      },
      "source": [
        ""
      ],
      "execution_count": null,
      "outputs": []
    }
  ]
}